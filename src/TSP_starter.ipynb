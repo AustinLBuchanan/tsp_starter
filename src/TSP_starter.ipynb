{
 "cells": [
  {
   "cell_type": "code",
   "execution_count": 1,
   "id": "4c530710-4f99-44b2-a694-a7e9e3d54015",
   "metadata": {},
   "outputs": [],
   "source": [
    "## the first time you run this, you'll need to install \n",
    "##   the tsplib95 package via the following command:\n",
    "# pip install tsplib95\n",
    "\n",
    "## You'll also need numpy and networkx, but people usually already have those..."
   ]
  },
  {
   "cell_type": "code",
   "execution_count": 2,
   "id": "cf7e74b4-05a3-487c-aaf5-9945853116b1",
   "metadata": {},
   "outputs": [],
   "source": [
    "from utils import from_tsplib_file_to_graph\n",
    "instance_name = 'dantzig42'\n",
    "G = from_tsplib_file_to_graph(\"../dat/\" + instance_name)"
   ]
  },
  {
   "cell_type": "code",
   "execution_count": 3,
   "id": "3ea6b628-c9a7-4b47-9c64-5261dbef7e55",
   "metadata": {},
   "outputs": [
    {
     "name": "stdout",
     "output_type": "stream",
     "text": [
      "Graph has 42 nodes and 861 edges.\n"
     ]
    }
   ],
   "source": [
    "n = G.number_of_nodes()\n",
    "m = G.number_of_edges()\n",
    "print(f\"Graph has {n} nodes and {m} edges.\")"
   ]
  },
  {
   "cell_type": "code",
   "execution_count": 4,
   "id": "157c5c32-a18c-4a54-82f9-f2d116e0a51f",
   "metadata": {},
   "outputs": [],
   "source": [
    "# double check that graph is undirected and complete, i.e., with m = (n choose 2) edges.\n",
    "import math\n",
    "assert not G.is_directed()\n",
    "assert m == math.comb(n,2)"
   ]
  },
  {
   "cell_type": "code",
   "execution_count": 5,
   "id": "34582ec2-bfb1-4f2c-ab88-19ff7ad69b4b",
   "metadata": {},
   "outputs": [
    {
     "name": "stdout",
     "output_type": "stream",
     "text": [
      "Edge (0, 1) has cost 6\n",
      "Edge (0, 2) has cost 32\n",
      "Edge (0, 3) has cost 38\n",
      "Edge (0, 4) has cost 48\n",
      "Edge (0, 5) has cost 60\n",
      "Edge (0, 6) has cost 77\n",
      "Edge (0, 7) has cost 74\n",
      "Edge (0, 8) has cost 80\n",
      "Edge (0, 9) has cost 98\n",
      "Edge (0, 10) has cost 92\n"
     ]
    }
   ],
   "source": [
    "# print some of the edge costs (but not all--that's a lot)\n",
    "max_print = 10\n",
    "counter = 0\n",
    "for i,j in G.edges:\n",
    "    if counter >= max_print:\n",
    "        break\n",
    "    print(f\"Edge {i,j} has cost {G.edges[i,j]['cost']}\")\n",
    "    counter += 1"
   ]
  },
  {
   "cell_type": "code",
   "execution_count": 6,
   "id": "99b5b6a9-f121-4f8d-9d04-aaca984dc39b",
   "metadata": {},
   "outputs": [
    {
     "name": "stdout",
     "output_type": "stream",
     "text": [
      "The edges incident to vertex 0 are [(0, 1), (0, 2), (0, 3), (0, 4), (0, 5), (0, 6), (0, 7), (0, 8), (0, 9), (0, 10), (0, 11), (0, 12), (0, 13), (0, 14), (0, 15), (0, 16), (0, 17), (0, 18), (0, 19), (0, 20), (0, 21), (0, 22), (0, 23), (0, 24), (0, 25), (0, 26), (0, 27), (0, 28), (0, 29), (0, 30), (0, 31), (0, 32), (0, 33), (0, 34), (0, 35), (0, 36), (0, 37), (0, 38), (0, 39), (0, 40), (0, 41)]\n"
     ]
    }
   ],
   "source": [
    "i = 0\n",
    "incident_edges = [ e for e in G.edges if e in G.edges(i) ]\n",
    "print(f\"The edges incident to vertex {i} are {incident_edges}\")"
   ]
  },
  {
   "cell_type": "code",
   "execution_count": 7,
   "id": "f09f2aef-6072-41a6-b10c-ba820e30915b",
   "metadata": {},
   "outputs": [
    {
     "name": "stdout",
     "output_type": "stream",
     "text": [
      "The edges incident to vertex 30 are [(0, 30), (1, 30), (2, 30), (3, 30), (4, 30), (5, 30), (6, 30), (7, 30), (8, 30), (9, 30), (10, 30), (11, 30), (12, 30), (13, 30), (14, 30), (15, 30), (16, 30), (17, 30), (18, 30), (19, 30), (20, 30), (21, 30), (22, 30), (23, 30), (24, 30), (25, 30), (26, 30), (27, 30), (28, 30), (29, 30), (30, 31), (30, 32), (30, 33), (30, 34), (30, 35), (30, 36), (30, 37), (30, 38), (30, 39), (30, 40), (30, 41)]\n"
     ]
    }
   ],
   "source": [
    "i = 30\n",
    "incident_edges = [ e for e in G.edges if e in G.edges(i) ]\n",
    "print(f\"The edges incident to vertex {i} are {incident_edges}\")"
   ]
  },
  {
   "cell_type": "code",
   "execution_count": 8,
   "id": "b9cb3433-83b6-4eda-8bbd-d37578ad9bad",
   "metadata": {},
   "outputs": [],
   "source": [
    "# Notice how networkx stores undirected edges as ordered pairs (i,j).\n",
    "# This is mathematically wrong--they should be unordered pairs {i,j}.\n",
    "# However, this is the situation and we have to deal with it.\n",
    "# This can sometimes cause some unexpected behavior/bugs."
   ]
  },
  {
   "cell_type": "code",
   "execution_count": null,
   "id": "d55b7b57-fbf2-4f88-b2fd-dbefba856d8f",
   "metadata": {},
   "outputs": [],
   "source": []
  }
 ],
 "metadata": {
  "kernelspec": {
   "display_name": "Python 3 (ipykernel)",
   "language": "python",
   "name": "python3"
  },
  "language_info": {
   "codemirror_mode": {
    "name": "ipython",
    "version": 3
   },
   "file_extension": ".py",
   "mimetype": "text/x-python",
   "name": "python",
   "nbconvert_exporter": "python",
   "pygments_lexer": "ipython3",
   "version": "3.11.7"
  }
 },
 "nbformat": 4,
 "nbformat_minor": 5
}
