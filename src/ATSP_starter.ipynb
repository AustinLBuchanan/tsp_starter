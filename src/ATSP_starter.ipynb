{
 "cells": [
  {
   "cell_type": "code",
   "execution_count": 1,
   "id": "4c530710-4f99-44b2-a694-a7e9e3d54015",
   "metadata": {},
   "outputs": [],
   "source": [
    "## the first time you run this, you'll need to install \n",
    "##   the tsplib95 package via the following command:\n",
    "# pip install tsplib95\n",
    "\n",
    "## You'll also need numpy and networkx, but people usually already have those..."
   ]
  },
  {
   "cell_type": "code",
   "execution_count": 2,
   "id": "cf7e74b4-05a3-487c-aaf5-9945853116b1",
   "metadata": {},
   "outputs": [],
   "source": [
    "from utils import from_tsplib_file_to_graph\n",
    "instance_name = 'dantzig42'\n",
    "G = from_tsplib_file_to_graph(\"../dat/\" + instance_name)"
   ]
  },
  {
   "cell_type": "code",
   "execution_count": 3,
   "id": "3a6dedfc-0d39-4ca7-8fab-5e1674153773",
   "metadata": {},
   "outputs": [],
   "source": [
    "# make the graph directed by replacing edge undirected edge {i,j}\n",
    "# by its oppositely directed counterparts (i,j) and (j,i)\n",
    "import networkx as nx\n",
    "G = nx.DiGraph(G)"
   ]
  },
  {
   "cell_type": "code",
   "execution_count": 4,
   "id": "3ea6b628-c9a7-4b47-9c64-5261dbef7e55",
   "metadata": {},
   "outputs": [
    {
     "name": "stdout",
     "output_type": "stream",
     "text": [
      "Graph has 42 nodes and 1722 edges.\n"
     ]
    }
   ],
   "source": [
    "n = G.number_of_nodes()\n",
    "m = G.number_of_edges()\n",
    "print(f\"Graph has {n} nodes and {m} edges.\")"
   ]
  },
  {
   "cell_type": "code",
   "execution_count": 5,
   "id": "ce84aba7-d12f-45c3-8ad2-7ded2ad3ed40",
   "metadata": {},
   "outputs": [],
   "source": [
    "# double check that graph is directed and complete, i.e., with m = n * (n-1) edges.\n",
    "import math\n",
    "assert G.is_directed()\n",
    "assert m == n * (n-1)"
   ]
  },
  {
   "cell_type": "code",
   "execution_count": 6,
   "id": "34582ec2-bfb1-4f2c-ab88-19ff7ad69b4b",
   "metadata": {},
   "outputs": [
    {
     "name": "stdout",
     "output_type": "stream",
     "text": [
      "Edge (0, 1) has cost 6\n",
      "Edge (0, 2) has cost 32\n",
      "Edge (0, 3) has cost 38\n",
      "Edge (0, 4) has cost 48\n",
      "Edge (0, 5) has cost 60\n",
      "Edge (0, 6) has cost 77\n",
      "Edge (0, 7) has cost 74\n",
      "Edge (0, 8) has cost 80\n",
      "Edge (0, 9) has cost 98\n",
      "Edge (0, 10) has cost 92\n"
     ]
    }
   ],
   "source": [
    "# print some of the edge costs (but not all--that's a lot)\n",
    "max_print = 10\n",
    "counter = 0\n",
    "for i,j in G.edges:\n",
    "    if counter >= max_print:\n",
    "        break\n",
    "    print(f\"Edge {i,j} has cost {G.edges[i,j]['cost']}\")\n",
    "    counter += 1"
   ]
  },
  {
   "cell_type": "code",
   "execution_count": 7,
   "id": "99b5b6a9-f121-4f8d-9d04-aaca984dc39b",
   "metadata": {},
   "outputs": [
    {
     "name": "stdout",
     "output_type": "stream",
     "text": [
      "The edges pointing out of vertex 0 are [(0, 1), (0, 2), (0, 3), (0, 4), (0, 5), (0, 6), (0, 7), (0, 8), (0, 9), (0, 10), (0, 11), (0, 12), (0, 13), (0, 14), (0, 15), (0, 16), (0, 17), (0, 18), (0, 19), (0, 20), (0, 21), (0, 22), (0, 23), (0, 24), (0, 25), (0, 26), (0, 27), (0, 28), (0, 29), (0, 30), (0, 31), (0, 32), (0, 33), (0, 34), (0, 35), (0, 36), (0, 37), (0, 38), (0, 39), (0, 40), (0, 41)]\n"
     ]
    }
   ],
   "source": [
    "i = 0\n",
    "outgoing_edges = [ e for e in G.out_edges(i) ]\n",
    "print(f\"The edges pointing out of vertex {i} are {outgoing_edges}\")"
   ]
  },
  {
   "cell_type": "code",
   "execution_count": 8,
   "id": "f09f2aef-6072-41a6-b10c-ba820e30915b",
   "metadata": {},
   "outputs": [
    {
     "name": "stdout",
     "output_type": "stream",
     "text": [
      "The edges pointing into vertex 0 are [(1, 0), (2, 0), (3, 0), (4, 0), (5, 0), (6, 0), (7, 0), (8, 0), (9, 0), (10, 0), (11, 0), (12, 0), (13, 0), (14, 0), (15, 0), (16, 0), (17, 0), (18, 0), (19, 0), (20, 0), (21, 0), (22, 0), (23, 0), (24, 0), (25, 0), (26, 0), (27, 0), (28, 0), (29, 0), (30, 0), (31, 0), (32, 0), (33, 0), (34, 0), (35, 0), (36, 0), (37, 0), (38, 0), (39, 0), (40, 0), (41, 0)]\n"
     ]
    }
   ],
   "source": [
    "i = 0\n",
    "incoming_edges = [ e for e in G.in_edges(i) ]\n",
    "print(f\"The edges pointing into vertex {i} are {incoming_edges}\")"
   ]
  },
  {
   "cell_type": "code",
   "execution_count": null,
   "id": "bd94c6e8-cd73-4a42-afdd-60b69abd750e",
   "metadata": {},
   "outputs": [],
   "source": []
  }
 ],
 "metadata": {
  "kernelspec": {
   "display_name": "Python 3 (ipykernel)",
   "language": "python",
   "name": "python3"
  },
  "language_info": {
   "codemirror_mode": {
    "name": "ipython",
    "version": 3
   },
   "file_extension": ".py",
   "mimetype": "text/x-python",
   "name": "python",
   "nbconvert_exporter": "python",
   "pygments_lexer": "ipython3",
   "version": "3.11.7"
  }
 },
 "nbformat": 4,
 "nbformat_minor": 5
}
